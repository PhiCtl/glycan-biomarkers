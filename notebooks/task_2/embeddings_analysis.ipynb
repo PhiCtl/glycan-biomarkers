{
 "cells": [
  {
   "cell_type": "code",
   "execution_count": null,
   "metadata": {},
   "outputs": [
    {
     "name": "stderr",
     "output_type": "stream",
     "text": [
      "c:\\Users\\Philippine\\Documents\\Job search\\Isospec\\isospec-internship\\.venv\\Lib\\site-packages\\tqdm\\auto.py:21: TqdmWarning: IProgress not found. Please update jupyter and ipywidgets. See https://ipywidgets.readthedocs.io/en/stable/user_install.html\n",
      "  from .autonotebook import tqdm as notebook_tqdm\n"
     ]
    }
   ],
   "source": [
    "import os\n",
    "os.chdir('../..')\n",
    "\n",
    "from sklearn.manifold import TSNE\n",
    "\n",
    "from utils.config import*\n",
    "from src.task_2.loading_helpers import*\n",
    "from src.task_2.tokenizer import*\n",
    "from src.task_2.inference import get_embeddings\n",
    "\n",
    "import warnings\n",
    "warnings.filterwarnings(\"ignore\")\n"
   ]
  },
  {
   "cell_type": "markdown",
   "metadata": {},
   "source": [
    "# Load"
   ]
  },
  {
   "cell_type": "code",
   "execution_count": 2,
   "metadata": {},
   "outputs": [],
   "source": [
    "# Data + config\n",
    "config = load_config()\n",
    "seed = config['seed']\n",
    "data = load_file('data/glycan_embedding/df_glycan.pkl')"
   ]
  },
  {
   "cell_type": "code",
   "execution_count": 3,
   "metadata": {},
   "outputs": [],
   "source": [
    "# Models\n",
    "# TODO uniformize naming conventions between the two models\n",
    "sweetnet_config = config['models']['sweetnet']\n",
    "roberta_config = config['models']['roberta']\n",
    "sweetnet = load_model(sweetnet_config['training']['save_dir'] + '/Sweetnet_Family.pt', 'SweetNet', config=sweetnet_config)\n",
    "roberta = load_model(roberta_config['training']['output_dir'], 'RoBERTa', config=roberta_config)\n",
    "# Roberta tokenizer\n",
    "wrapper = HuggingFaceTokenizerWrapper()\n",
    "wrapper.load(roberta_config['tokenizer']['path'])\n",
    "tokenizer = wrapper.get_tokenizer()"
   ]
  },
  {
   "cell_type": "markdown",
   "metadata": {},
   "source": [
    "# Embeddings"
   ]
  },
  {
   "cell_type": "markdown",
   "metadata": {},
   "source": [
    "## Compute embeddings"
   ]
  },
  {
   "cell_type": "code",
   "execution_count": 164,
   "metadata": {},
   "outputs": [
    {
     "name": "stderr",
     "output_type": "stream",
     "text": [
      "100%|██████████| 791/791 [1:25:41<00:00,  6.50s/it]\n"
     ]
    }
   ],
   "source": [
    "os.makedirs('models/embeddings/RoBERTa', exist_ok=True)\n",
    "embeddings_roberta = get_embeddings(data, roberta, tokenizer=tokenizer, save_path='models/embeddings/RoBERTa')"
   ]
  },
  {
   "cell_type": "code",
   "execution_count": 5,
   "metadata": {},
   "outputs": [
    {
     "name": "stdout",
     "output_type": "stream",
     "text": [
      "Warning: Mismatching brackets in formatted glycan string.\n",
      "Warning: Mismatching brackets in formatted glycan string.\n"
     ]
    }
   ],
   "source": [
    "os.makedirs('models/embeddings/SweetNet', exist_ok=True)\n",
    "embeddings_sweetnet = get_embeddings(data, sweetnet, save_path='models/embeddings/SweetNet')"
   ]
  },
  {
   "cell_type": "markdown",
   "metadata": {},
   "source": [
    "## Plot embeddings"
   ]
  },
  {
   "cell_type": "code",
   "execution_count": null,
   "metadata": {},
   "outputs": [],
   "source": [
    "def plot_embeddings(embed:np.ndarray, data:pd.DataFrame, hue:str, limit:int = 5, errors=None, seed=42):\n",
    "\n",
    "    assert(hue in data.columns)\n",
    "    assert(embed.shape[0] == data.shape[0])\n",
    "    if errors:\n",
    "        data = data[~data['glycan'].isin(errors)].reset_index(drop=True)\n",
    "    \n",
    "    tsne_embeds = TSNE(n_components=2, random_state=seed).fit_transform(embed)\n",
    "    df_tsne = pd.DataFrame(tsne_embeds, columns=['x', 'y'])  \n",
    "    df_tsne['glycan'] = data['glycan'].tolist()\n",
    "\n",
    "    # Select the most relevant categories to see the clusters\n",
    "    df_tsne['hue'] = data[hue].tolist()\n",
    "    df_tsne = df_tsne.explode('hue').drop_duplicates(subset=['glycan', 'hue']).reset_index(drop=True)\n",
    "    top_hues = df_tsne['hue'].value_counts().nlargest(limit).index.tolist()\n",
    "    df_tsne = df_tsne[df_tsne['hue'].isin(top_hues)].reset_index(drop=True)\n",
    "\n",
    "    sns.set_theme(rc = {'figure.figsize':(10, 10)}, font_scale=2)\n",
    "    fig = sns.scatterplot(data=df_tsne, x='x', y='y', hue=hue, palette='colorblind', s=40, rasterized=True)\n",
    "    fig.set_title('TSNE of Glycan Embeddings')\n",
    "\n",
    "    return tsne_embeds"
   ]
  },
  {
   "cell_type": "code",
   "execution_count": null,
   "metadata": {},
   "outputs": [],
   "source": [
    "plot_embeddings(embeddings_roberta, data, hue='Kingdom', limit=5, errors=errors)"
   ]
  }
 ],
 "metadata": {
  "kernelspec": {
   "display_name": ".venv",
   "language": "python",
   "name": "python3"
  },
  "language_info": {
   "codemirror_mode": {
    "name": "ipython",
    "version": 3
   },
   "file_extension": ".py",
   "mimetype": "text/x-python",
   "name": "python",
   "nbconvert_exporter": "python",
   "pygments_lexer": "ipython3",
   "version": "3.11.11"
  }
 },
 "nbformat": 4,
 "nbformat_minor": 2
}
