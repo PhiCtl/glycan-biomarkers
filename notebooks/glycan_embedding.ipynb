{
  "cells": [
    {
      "cell_type": "markdown",
      "source": [
        "# Getting started with packages imports and git repo cloning"
      ],
      "metadata": {
        "id": "nFzPezDn32Wv"
      },
      "id": "nFzPezDn32Wv"
    },
    {
      "cell_type": "code",
      "execution_count": null,
      "id": "yLCj16Jo6s3t",
      "metadata": {
        "id": "yLCj16Jo6s3t"
      },
      "outputs": [],
      "source": [
        "!git clone -b phi https://github.com/PhiCtl/isospec-internship/"
      ]
    },
    {
      "cell_type": "code",
      "execution_count": null,
      "id": "LpyXc2HYAnEu",
      "metadata": {
        "id": "LpyXc2HYAnEu",
        "collapsed": true
      },
      "outputs": [],
      "source": [
        "!pip install \"glycowork[ml]\" nbdev glycowork"
      ]
    },
    {
      "cell_type": "code",
      "execution_count": null,
      "id": "sZYs0A4958Dj",
      "metadata": {
        "id": "sZYs0A4958Dj"
      },
      "outputs": [],
      "source": [
        "import warnings\n",
        "warnings.filterwarnings(\"ignore\")\n",
        "from IPython.display import HTML\n",
        "from nbdev.showdoc import show_doc\n",
        "\n",
        "import numpy as np\n",
        "import pandas as pd\n",
        "import os\n",
        "import copy\n",
        "import matplotlib.pyplot as plt\n",
        "import seaborn as sns\n",
        "\n",
        "import torch\n",
        "\n",
        "from glycowork.ml.models import *\n",
        "from glycowork.ml.inference import *\n",
        "from glycowork.ml.processing import *\n",
        "from glycowork.ml.model_training import *\n",
        "from glycowork.ml.train_test_split import *\n",
        "from glycowork.glycan_data.loader import df_species, df_glycan, glycan_binding\n",
        "from glycowork.glycan_data.loader import *"
      ]
    },
    {
      "cell_type": "code",
      "source": [
        "from sklearn.manifold import TSNE\n",
        "from sklearn.decomposition import PCA\n",
        "from sklearn.cluster import DBSCAN\n",
        "from scipy.spatial.distance import cdist"
      ],
      "metadata": {
        "id": "_Gxn34L8T6bh"
      },
      "id": "_Gxn34L8T6bh",
      "execution_count": null,
      "outputs": []
    },
    {
      "cell_type": "code",
      "source": [
        "import sys\n",
        "sys.path.insert(0,'/content/isospec-internship/notebooks')\n",
        "\n",
        "from embed_helpers import *"
      ],
      "metadata": {
        "id": "Rb7MT3G0VO__"
      },
      "id": "Rb7MT3G0VO__",
      "execution_count": null,
      "outputs": []
    },
    {
      "cell_type": "code",
      "execution_count": null,
      "id": "d5494fd9-0149-4570-9294-db85732a4f13",
      "metadata": {
        "id": "d5494fd9-0149-4570-9294-db85732a4f13"
      },
      "outputs": [],
      "source": [
        "DATA_PATH = \"/content/isospec-internship/data/glycan_embedding\""
      ]
    },
    {
      "cell_type": "markdown",
      "id": "cebc9526-0d4c-490f-ac13-b8edbdc88fc2",
      "metadata": {
        "id": "cebc9526-0d4c-490f-ac13-b8edbdc88fc2"
      },
      "source": [
        "# Datasets"
      ]
    },
    {
      "cell_type": "code",
      "execution_count": null,
      "id": "8663a642-8550-4648-bca3-4ab98dfbff97",
      "metadata": {
        "id": "8663a642-8550-4648-bca3-4ab98dfbff97"
      },
      "outputs": [],
      "source": [
        "# Extracted glycans used for inference and enrichment\n",
        "df_glycan_list = pd.read_csv(os.path.join(DATA_PATH, 'glycan_list.csv')).rename(columns={'tissue_species': 'Species'})\n",
        "df_glycan_list['type'] = 'unknown'\n",
        "df_glycan_list.head()"
      ]
    },
    {
      "cell_type": "code",
      "source": [
        "# Curated list for inference\n",
        "df_glycan = df_glycan[~df_glycan['glycan'].isin(df_glycan_list['glycan'].to_list())] # Remove glycans of interest from the curated list...\n",
        "df_glycan.shape"
      ],
      "metadata": {
        "id": "iUYXNXacBExu"
      },
      "id": "iUYXNXacBExu",
      "execution_count": null,
      "outputs": []
    },
    {
      "cell_type": "code",
      "source": [
        "print(f\"There are {df_glycan.explode('Species')['Species'].nunique()} unique species in the data set\",\n",
        "         f\"and {df_glycan.explode('disease_association')['disease_association'].dropna().nunique()-1} diseases.\")"
      ],
      "metadata": {
        "id": "M-Tx6mOQslZY"
      },
      "id": "M-Tx6mOQslZY",
      "execution_count": null,
      "outputs": []
    },
    {
      "cell_type": "code",
      "source": [
        "print(f\"There are {glycan_binding.shape[0]} different proteins and {glycan_binding.shape[1]} associated binding glycans.\")\n",
        "glycan_binding.head()"
      ],
      "metadata": {
        "id": "NBjHpo5AEOVC"
      },
      "id": "NBjHpo5AEOVC",
      "execution_count": null,
      "outputs": []
    },
    {
      "cell_type": "code",
      "execution_count": null,
      "id": "afbfb9e9-4d75-4240-be67-5c93e0f860a8",
      "metadata": {
        "id": "afbfb9e9-4d75-4240-be67-5c93e0f860a8"
      },
      "outputs": [],
      "source": [
        "# Used to control representation in the embedding space by assessing closeness\n",
        "df_N_glycans = pd.read_csv(os.path.join(DATA_PATH, 'N_glycans_df.csv'))\n",
        "df_N_glycans['type'] = 'N_glycans'\n",
        "\n",
        "# N glycans are present within df_glycan df\n",
        "res = pd.merge(df_N_glycans, df_glycan, on='glycan', how='left', indicator =True)\n",
        "res = res[res['_merge'] == 'left_only'].drop('_merge', axis=1)\n",
        "print(res)"
      ]
    },
    {
      "cell_type": "markdown",
      "source": [],
      "metadata": {
        "id": "YMMtUXY_TT3h"
      },
      "id": "YMMtUXY_TT3h"
    },
    {
      "cell_type": "markdown",
      "source": [
        "# 1 - Approaches reflexion\n",
        "\n",
        "Getting inspiration from [Using graph convolutional neural networks to learn a representation for glycans](https://www.sciencedirect.com/science/article/pii/S2211124721006161#sec1) :\n",
        "* Sweetnet is a graph convolutional network (GCNN) that provides a useful glycan representation using glycan sequences.\n",
        "* Sweetnet was trained using _the task of predicting which species a given glycan sequence came from_, ie. a multiclass classification task for a better model performance comparison. The GCNN approach outperformed existing approaches on the classification task. See more about Sweetnet training [here](https://github.com/BojarLab/SweetNet/blob/main/SweetNet_code.ipynb).\n",
        "* Since solving this task was successful, the authors infered that the hidden glycan representation learned by the network was meaningful, and demonstrated it on various downstream tasks.\n",
        "\n",
        "The state of the art embedding for glycans from different species is already computed by Sweetnet graph. Using graph neural networks seems the best possible approach. Nevertheless, different approaches for embedding can be used:\n",
        "* Take advantage of curated Sweetnet GCNN architecture for glycan sequence embedding, train the model on all glycans sequences with the task of predicting the species. ``` composition ``` and ```tissue_sample``` features could be leveraged for embedding space learning as well, but 1) ```composition``` is redundant with the glycan sequence and 2) ```tissue_sample``` might not exactly reflect glycan presence in tissues.\n",
        "* Same task as above predicting the glycan type (eg. N, O, etc...).\n",
        "* Explore another type of graph neural network architecture, namely graph transformers ([See HugginFace website](https://huggingface.co/docs/transformers/en/model_doc/graphormer#usage-tips)).\n",
        "\n"
      ],
      "metadata": {
        "id": "Qr-DnkeX6__G"
      },
      "id": "Qr-DnkeX6__G"
    },
    {
      "cell_type": "markdown",
      "source": [
        "# 2- Using Sweetnet trained on a classification task\n",
        "\n",
        "* Species classification : Multi class classification, ie. each glycan can belong to several species."
      ],
      "metadata": {
        "id": "6TwuYKCiJo-9"
      },
      "id": "6TwuYKCiJo-9"
    },
    {
      "cell_type": "markdown",
      "source": [
        "## 2.1 Data processing for species classification"
      ],
      "metadata": {
        "id": "GVJK95agHi2q"
      },
      "id": "GVJK95agHi2q"
    },
    {
      "cell_type": "code",
      "source": [
        "df_data = df_glycan.explode('Species')\n",
        "df_data = df_data.drop_duplicates(['Species', 'glycan'])"
      ],
      "metadata": {
        "id": "YHCGjDP0IkSf"
      },
      "id": "YHCGjDP0IkSf",
      "execution_count": null,
      "outputs": []
    },
    {
      "cell_type": "code",
      "source": [
        "train_x, val_x, train_y, val_y, id_val, class_list, class_converter = hierarchy_filter(df_data,\n",
        "                                                                              rank = 'Species', min_seq=10)"
      ],
      "metadata": {
        "id": "ABBuPJtffje6"
      },
      "id": "ABBuPJtffje6",
      "execution_count": null,
      "outputs": []
    },
    {
      "cell_type": "markdown",
      "source": [
        "## 2.1 Data processing for glycan type classification"
      ],
      "metadata": {
        "id": "JHF1q8TWCPYZ"
      },
      "id": "JHF1q8TWCPYZ"
    },
    {
      "cell_type": "code",
      "source": [
        "df_data = df_glycan[df_glycan['glycan_type'].isin(['free', 'lipid', 'N', 'O', 'repeat'])]\n",
        "class_list = df_data['glycan_type'].unique().tolist()\n",
        "class_converter = {class_list[i] : i for i in range(len(class_list))}"
      ],
      "metadata": {
        "id": "ybgBBpv76Nyz"
      },
      "id": "ybgBBpv76Nyz",
      "execution_count": null,
      "outputs": []
    },
    {
      "cell_type": "code",
      "source": [
        "train_x, val_x, train_y, val_y = general_split(df_data['glycan'].values.tolist(),\\\n",
        "                                               df_data['glycan_type'].map(class_converter).values.tolist(), test_size=0.2)"
      ],
      "metadata": {
        "id": "gZmIRmlU9Qar"
      },
      "id": "gZmIRmlU9Qar",
      "execution_count": null,
      "outputs": []
    },
    {
      "cell_type": "code",
      "source": [
        "print(f\"{len(train_x)} glycans and {len(class_list)} classes\")"
      ],
      "metadata": {
        "id": "4unoR78BpVwX"
      },
      "id": "4unoR78BpVwX",
      "execution_count": null,
      "outputs": []
    },
    {
      "cell_type": "markdown",
      "source": [
        "## 2.2 Model training"
      ],
      "metadata": {
        "id": "XNVIbp1AHmi7"
      },
      "id": "XNVIbp1AHmi7"
    },
    {
      "cell_type": "markdown",
      "source": [
        "### 2.2.1 Actually training the model\n",
        "\n",
        "Model training for species classification achieved similar accuracy on the validation set than reported on the paper, ie. 0.44."
      ],
      "metadata": {
        "id": "Bm7ier8M7ZA5"
      },
      "id": "Bm7ier8M7ZA5"
    },
    {
      "cell_type": "code",
      "source": [
        "dataloaders = split_data_to_train(train_x, val_x, train_y, val_y)\n",
        "model = prep_model('SweetNet', trained=False, num_classes=len(class_list))\n",
        "optimizer_ft, scheduler, criterion = training_setup(model, 0.0005, num_classes = len(class_list))\n",
        "model_ft_3 = train_model(model, dataloaders, criterion, optimizer_ft, scheduler,\n",
        "                   num_epochs = 100)"
      ],
      "metadata": {
        "id": "AbI74PeSc9E7",
        "collapsed": true
      },
      "id": "AbI74PeSc9E7",
      "execution_count": null,
      "outputs": []
    },
    {
      "cell_type": "code",
      "source": [
        "#torch.save(model_ft_3, '/content/SweetNet_glycan_type.pt')\n",
        "torch.save(model_ft_3, '/content/SweetNet_species_10.pt')"
      ],
      "metadata": {
        "id": "qRqyDuVpC0et"
      },
      "id": "qRqyDuVpC0et",
      "execution_count": null,
      "outputs": []
    },
    {
      "cell_type": "markdown",
      "source": [
        "### 2.2.2 Retrieving trained model weights"
      ],
      "metadata": {
        "id": "Kkh7jMo17cj5"
      },
      "id": "Kkh7jMo17cj5"
    },
    {
      "cell_type": "code",
      "source": [
        "# Change device if on GPU\n",
        "model_ft_3 = torch.load('/content/isospec-internship/models/SweetNet_glycan_type.pt')\n",
        "model_ft_3.eval()"
      ],
      "metadata": {
        "id": "pzx6FVi2tY2k"
      },
      "id": "pzx6FVi2tY2k",
      "execution_count": null,
      "outputs": []
    },
    {
      "cell_type": "markdown",
      "source": [
        "## 2.3 Embedding visualisation\n",
        "\n",
        "Glycan type : for the sake of visualisation, distinguish glycans used for embedding training from N-glycans and \"discovered glycans\"."
      ],
      "metadata": {
        "id": "5m_k5AZpHp8a"
      },
      "id": "5m_k5AZpHp8a"
    },
    {
      "cell_type": "code",
      "source": [
        "cols = ['glycan', 'Species', 'Kingdom', 'glycan_type', 'disease_association', 'disease_species', 'tissue_sample', 'tissue_species', 'Composition']\n",
        "glycans = df_data.merge(df_N_glycans[['glycan', 'type']], on='glycan', how='outer')\\\n",
        "                    .fillna({'type' : 'known'})\\\n",
        "                    [cols]\n",
        "\n",
        "if not isinstance(glycans['Species'], list):\n",
        "  glycans = glycans.groupby('glycan').agg({'Species':lambda ss : list(ss),\n",
        "                                         'Kingdom' : lambda x : x,\n",
        "                                         'glycan_type': lambda x : x,\n",
        "                                         'disease_association': lambda x : x,\n",
        "                                         'disease_species': lambda x : x,\n",
        "                                         'tissue_sample': lambda x : x,\n",
        "                                         'tissue_species': lambda x : x,\n",
        "                                         'Composition': lambda x : x}).reset_index()\n",
        "\n",
        "add_cols = glycans.columns.difference(df_glycan_list.columns)\n",
        "for c in add_cols:\n",
        "  df_glycan_list[c] = None\n",
        "glycans = pd.concat([glycans, df_glycan_list]).reset_index(drop=True)\n",
        "glycans['from_human'] = glycans['Species'].apply(lambda ss : 'Human glycan' if 'Homo_sapiens' in ss\\\n",
        "                                                 else 'Non human glycan')\n",
        "df_learned_rep = glycans_to_emb(glycans['glycan'].values, model_ft_3)"
      ],
      "metadata": {
        "id": "8E6V8SIS67R1"
      },
      "id": "8E6V8SIS67R1",
      "execution_count": null,
      "outputs": []
    },
    {
      "cell_type": "code",
      "source": [
        "# Get glycan main metadata\n",
        "df_learned_rep_augm = df_learned_rep.merge(glycans, left_index=True, right_index=True)"
      ],
      "metadata": {
        "id": "FoIBZXzquiKg"
      },
      "id": "FoIBZXzquiKg",
      "execution_count": null,
      "outputs": []
    },
    {
      "cell_type": "markdown",
      "source": [
        "### 2.3.1 Cluster visualisation"
      ],
      "metadata": {
        "id": "Ca6h1Umw8GIN"
      },
      "id": "Ca6h1Umw8GIN"
    },
    {
      "cell_type": "code",
      "source": [
        "tsne_emb_1 = TSNE(random_state = 42).fit_transform(df_learned_rep_augm.drop([c for c in glycans.columns], axis=1))"
      ],
      "metadata": {
        "id": "yUvpyVIuJRvJ"
      },
      "id": "yUvpyVIuJRvJ",
      "execution_count": null,
      "outputs": []
    },
    {
      "cell_type": "code",
      "source": [
        "tsne_emb_1 = pd.DataFrame(tsne_emb_1).merge(df_learned_rep_augm[[c for c in glycans.columns]], left_index=True, right_index=True)\n",
        "tsne_emb_1.set_index('glycan', inplace=True)"
      ],
      "metadata": {
        "id": "rE5KMzbdQ2f6"
      },
      "id": "rE5KMzbdQ2f6",
      "execution_count": null,
      "outputs": []
    },
    {
      "cell_type": "code",
      "source": [
        "# set visualization_hue = 'glycan_type'\n",
        "plot_embedding_classes(tsne_emb_1, 't-SNE', visualization_hue='from_human', save_fig=True)"
      ],
      "metadata": {
        "id": "U1ZnNFm-Jdif"
      },
      "id": "U1ZnNFm-Jdif",
      "execution_count": null,
      "outputs": []
    },
    {
      "cell_type": "markdown",
      "source": [
        "* Species classification\n",
        "  * We can see from the cluster plot that N-linked glycans seem to cluster on the top right part of the graph, mostly on human glycan clusters. Our unknown glycans seem to belong to human glycans clusters, as expected from their tissue sample origin. Two of the unknown glycans with very similar sequence cluster very closely.\n",
        "* glycan type classification : embeddings of the same glycan type cluster tightly on t-SNE plot. Our glycans of interest seem to belong to the N-glycan cluster.\n",
        "\n",
        "PCA 1D clustering visualisation was not informative."
      ],
      "metadata": {
        "id": "vzLlyCedQcrG"
      },
      "id": "vzLlyCedQcrG"
    },
    {
      "cell_type": "markdown",
      "source": [
        "## 2.4 Enrich glycan information\n",
        "\n",
        "The task is to find the most similar glycans to the unknown glycans of interest in the embedding space.\n",
        "\n",
        "Several approaches can be considered:\n",
        "* Finding the most relevant neighbours based on a suitable distance metric in the embedding space.\n",
        "  * The most simple approach is to define a cosine distance threshold and keep all the datapoints below that threshold.\n",
        "  * The second approach would be to find an inflection point in the distance curve and to define all the neighbours before that point as belonging to the cluster of interest. We will keep this second approach.\n",
        "  * This stage would need validation with other methods to see whether we end up with semantically consistent clusters around the points of interest.\n",
        "* Clustering the data.\n",
        "\n",
        "I carefully chose the cosine distance or the Manhattan distance metrics as Euclidean distance metrics is not suited for high dimensions.\n"
      ],
      "metadata": {
        "id": "btToANLct8F9"
      },
      "id": "btToANLct8F9"
    },
    {
      "cell_type": "markdown",
      "source": [
        "### 2.4.1 Finding relevant neighbours"
      ],
      "metadata": {
        "id": "P_uzbLCAUftm"
      },
      "id": "P_uzbLCAUftm"
    },
    {
      "cell_type": "code",
      "source": [
        "# Retrieve high dimensional embeddings without metadata\n",
        "df_reps = df_learned_rep_augm.set_index('glycan')\\\n",
        "          [[i for i in range(128)]]\\\n",
        "          .T"
      ],
      "metadata": {
        "id": "m6rs0wHw83mk"
      },
      "id": "m6rs0wHw83mk",
      "execution_count": null,
      "outputs": []
    },
    {
      "cell_type": "code",
      "source": [
        "closest_ngb_cosine = plot_neighbours_distance(df_reps, df_glycan_list, max_dist=200, save_fig=True, smoothing_sigma=3)"
      ],
      "metadata": {
        "id": "vXarmnv4uIbv"
      },
      "id": "vXarmnv4uIbv",
      "execution_count": null,
      "outputs": []
    },
    {
      "cell_type": "code",
      "source": [
        "closest_ngb_manh= plot_neighbours_distance(df_reps, df_glycan_list, metric='cityblock', save_fig=True, max_dist=200, smoothing_sigma=3)"
      ],
      "metadata": {
        "id": "UQm10k0bRVsg"
      },
      "id": "UQm10k0bRVsg",
      "execution_count": null,
      "outputs": []
    },
    {
      "cell_type": "markdown",
      "source": [
        "### 2.4.2 Find clusters\n",
        "\n",
        "https://www.datacamp.com/tutorial/dbscan-clustering-algorithm\n",
        "\n",
        "#### TODO\n",
        "- [ ] Based on meaningful distance, choose carefully epsilon and the minimum number of neighbours."
      ],
      "metadata": {
        "id": "VCdmA59j_5Tn"
      },
      "id": "VCdmA59j_5Tn"
    },
    {
      "cell_type": "code",
      "source": [
        "# All glycan data embeddings\n",
        "X = df_reps.T"
      ],
      "metadata": {
        "id": "lAxWGDHI_w1W"
      },
      "id": "lAxWGDHI_w1W",
      "execution_count": null,
      "outputs": []
    },
    {
      "cell_type": "code",
      "source": [
        "run_dbscan(X, tsne_emb_1[tsne_emb_1['from_human'] == 'Human glycan'], eps=0.1, min_samples=10)"
      ],
      "metadata": {
        "id": "KiXhdfhmI5Q4"
      },
      "id": "KiXhdfhmI5Q4",
      "execution_count": null,
      "outputs": []
    },
    {
      "cell_type": "markdown",
      "source": [
        "### 2.4.3 Analyse neighbours\n",
        "\n",
        "Print and save enriched list of discovered glycans :"
      ],
      "metadata": {
        "id": "fF7KrB6FXq0O"
      },
      "id": "fF7KrB6FXq0O"
    },
    {
      "cell_type": "code",
      "source": [
        "metadata = ['Species', 'glycan_type',\\\n",
        "                      'disease_association', 'tissue_sample',\\\n",
        "                      'disease_species']"
      ],
      "metadata": {
        "id": "gL9QaGPXiPmF"
      },
      "id": "gL9QaGPXiPmF",
      "execution_count": null,
      "outputs": []
    },
    {
      "cell_type": "code",
      "source": [
        "# Change gly_idx according to df_glycan_list glycans\n",
        "gly_idx = 1\n",
        "df_info = glycan_information(df_glycan_list['glycan'].values[gly_idx],\n",
        "                       closest_ngb_cosine,\n",
        "                       glycans, metadata,\n",
        "                       glycan_binding,\n",
        "                       closeness_level=2, print_agg=False)"
      ],
      "metadata": {
        "id": "9YKvf1sveC0r"
      },
      "id": "9YKvf1sveC0r",
      "execution_count": null,
      "outputs": []
    },
    {
      "cell_type": "markdown",
      "source": [
        "To retrieve protein binding metadata, run the code and explore df_info.\n",
        "\n",
        "We will define as neighbours all the points which are closer than the second inflection point (see above methods) to the glycan of interest. We will compare metadata gathered by embedding similarities between glycan type and species classification.\n",
        "\n",
        "| Glycan    | Prop. of human derived neighbours  | Neighbouring glycans type  | Associated diseases (nb of neighbours) |\n",
        "|-----------|-----------|-----------|-----------|\n",
        "| Fuc(a1-?)GlcNAc(b1-2)Man(a1-6)[GlcNAc(b1-2)Man(a1-3)]Man(b1-4)GlcNAc(b1-4)[Fuc(a1-6)]GlcNAc | 3 / 13 | N-glycans | female breast cancer (1) |\n",
        "| Neu5Ac(a2-?)Gal(b1-4)GlcNAc(b1-2)Man(a1-6)[GlcNAc(b1-2)Man(a1-3)]Man(b1-4)GlcNAc(b1-4)[Fuc(a1-6)]GlcNAc | 7 / 22 | N-glycans | type_2_diabetes_mellitus (1),<br>oesophageal cancer (1),<br>colorectal cancer (2) |\n",
        "| Neu5Ac(a2-6)Gal(b1-4)GlcNAc(b1-2)Man(a1-6)[Gal(b1-4)GlcNAc(b1-2)Man(a1-3)]Man(b1-4)GlcNAc(b1-4)GlcNAc | 15 / 39 | N-glycans | Toxoplasma_gondii_infection (2),<br>esophageal_cancer (1),<br>lung_non_small_cell_carcinoma (1),<br>type_2_diabetes_mellitus(1) |\n",
        "| Neu5Ac(a2-6)Gal(b1-4)GlcNAc(b1-2)Man(a1-6)[GlcNAc(b1-2)Man(a1-3)]Man(b1-4)GlcNAc(b1-4)GlcNAc | 11 / 25 | N-glycans | colorectal_cancer (3),<br>type_2_diabetes_mellitus (1),<br>esophageal_cancer (1) |\n",
        "| Fuc(a1-2)[GalNAc(a1-3)]Gal(b1-4)GlcNAc(b1-2)Man(a1-6)[Gal(b1-4)GlcNAc(b1-2)Man(a1-3)]Man(b1-4)GlcNAc(b1-4)GlcNAc | 4 / 10 | N-glycans | None |\n",
        "\n",
        "Metadata from\n",
        "\n",
        "\n",
        "\n",
        "| Glycan    | Prop. of human derived neighbours  | Neighbouring glycans type  | Associated diseases  |\n",
        "|-----------|-----------|-----------|-----------|\n",
        "| Fuc(a1-?)GlcNAc(b1-2)Man(a1-6)[GlcNAc(b1-2)Man(a1-3)]Man(b1-4)GlcNAc(b1-4)[Fuc(a1-6)]GlcNAc | 4 / 10 | N-glycans | None |\n",
        "| Neu5Ac(a2-?)Gal(b1-4)GlcNAc(b1-2)Man(a1-6)[GlcNAc(b1-2)Man(a1-3)]Man(b1-4)GlcNAc(b1-4)[Fuc(a1-6)]GlcNAc | 12 / 20 | N-glycans | type_2_diabetes_mellitus (3),<br>benign_breast_tumor_tissues_vs_para_carcinoma_tissues (2),<br>filarial_elephantiasis(2),<br>lung_non_small_cell_carcinoma (2),<br>vernal_conjunctivitis (2),<br>diabetic_kidney_disease(1),<br>gastric_cancer(1) |\n",
        "| Neu5Ac(a2-6)Gal(b1-4)GlcNAc(b1-2)Man(a1-6)[Gal(b1-4)GlcNAc(b1-2)Man(a1-3)]Man(b1-4)GlcNAc(b1-4)GlcNAc | 15 / 21 | N-glycans | Parkinson_disease(1),<br>cholangiocarcinoma (2),<br>influenza(2),<br>multiple_sclerosis(1),<br>pancreatic_cancer(2),<br>stomach_cancer(2),<br>thyroid_gland_papillary_carcinoma(2),<br>colorectal_cancer(3),<br>LPS_induced_inflammation(1),<br>staphyloenterotoxemia(1) |\n",
        "| Neu5Ac(a2-6)Gal(b1-4)GlcNAc(b1-2)Man(a1-6)[GlcNAc(b1-2)Man(a1-3)]Man(b1-4)GlcNAc(b1-4)GlcNAc | 17 / 26 | N-glycans | cholangiocarcinoma (2),<br>pancreatic_cancer (2),<br>stomach_cancer (2),<br>staphyloenterotoxemia (1),<br>LPS_induced_inflammation(1),<br>Parkinson_disease(1),<br>influenza (1),<br>multiple_sclerosis (1),<br>thyroid_gland_papillary_carcinoma (1),<br>cystic_fibrosis (1) |\n",
        "| Fuc(a1-2)[GalNAc(a1-3)]Gal(b1-4)GlcNAc(b1-2)Man(a1-6)[Gal(b1-4)GlcNAc(b1-2)Man(a1-3)]Man(b1-4)GlcNAc(b1-4)GlcNAc | 7 / 14 | N-glycans | None |\n",
        "\n",
        "\n",
        "\n"
      ],
      "metadata": {
        "id": "kRLH9VXpXcK-"
      },
      "id": "kRLH9VXpXcK-"
    }
  ],
  "metadata": {
    "colab": {
      "provenance": [],
      "gpuType": "T4"
    },
    "kernelspec": {
      "display_name": "Python 3",
      "name": "python3"
    },
    "language_info": {
      "name": "python"
    },
    "accelerator": "GPU"
  },
  "nbformat": 4,
  "nbformat_minor": 5
}