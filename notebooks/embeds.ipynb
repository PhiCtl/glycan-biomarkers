{
 "cells": [
  {
   "cell_type": "code",
   "execution_count": 1,
   "metadata": {},
   "outputs": [],
   "source": [
    "import os\n",
    "import random\n",
    "\n",
    "import pandas as pd\n",
    "import numpy as np\n",
    "\n",
    "import matplotlib.pyplot as plt\n",
    "import seaborn as sns\n",
    "\n",
    "DATA_PATH = '../data/glycan_embedding'"
   ]
  },
  {
   "cell_type": "markdown",
   "metadata": {},
   "source": [
    "# Load data"
   ]
  },
  {
   "cell_type": "code",
   "execution_count": 3,
   "metadata": {},
   "outputs": [],
   "source": [
    "df_glycans = pd.read_pickle(os.path.join(DATA_PATH, 'df_glycan.pkl'))\n",
    "df_species = pd.read_pickle(os.path.join(DATA_PATH, 'df_species.pkl'))\n",
    "df_glycan_binding = pd.read_pickle(os.path.join(DATA_PATH, 'glycan_binding.pkl'))\n",
    "df_glycan_list = pd.read_csv(os.path.join(DATA_PATH, 'glycan_list.csv'))\n",
    "df_N_glycans = pd.read_pickle(os.path.join(DATA_PATH, 'N_glycans_df.pkl'))"
   ]
  },
  {
   "cell_type": "markdown",
   "metadata": {},
   "source": [
    "TODO \n",
    "\n",
    "base embedding model\n",
    "build other embedding model\n",
    "make graphs to present"
   ]
  }
 ],
 "metadata": {
  "kernelspec": {
   "display_name": ".venv",
   "language": "python",
   "name": "python3"
  },
  "language_info": {
   "codemirror_mode": {
    "name": "ipython",
    "version": 3
   },
   "file_extension": ".py",
   "mimetype": "text/x-python",
   "name": "python",
   "nbconvert_exporter": "python",
   "pygments_lexer": "ipython3",
   "version": "3.11.11"
  }
 },
 "nbformat": 4,
 "nbformat_minor": 2
}
