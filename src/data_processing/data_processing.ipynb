{
 "cells": [
  {
   "cell_type": "code",
   "execution_count": 1,
   "id": "2bb827ec-c656-4a32-997d-52e4ba08bd2e",
   "metadata": {},
   "outputs": [],
   "source": [
    "import plotly.express as plx\n",
    "import os\n",
    "import pandas as pd\n",
    "import numpy as np\n",
    "import seaborn as sns\n",
    "from matplotlib import pyplot as plt\n",
    "\n",
    "import scipy.stats as st"
   ]
  },
  {
   "cell_type": "code",
   "execution_count": 2,
   "id": "ac3d1720-8116-4857-bea9-04c0fb7a6fdb",
   "metadata": {},
   "outputs": [],
   "source": [
    "DATA_PATH = \"../../data/input\""
   ]
  },
  {
   "cell_type": "markdown",
   "id": "686cc602-335a-4f10-aaf0-6bf39cfa58d2",
   "metadata": {},
   "source": [
    "# Data loading"
   ]
  },
  {
   "cell_type": "code",
   "execution_count": 3,
   "id": "b151b613-7bfa-4559-9174-7a6ed384601e",
   "metadata": {},
   "outputs": [],
   "source": [
    "# Identify QC samples for median normalization correction later on\n",
    "# A subbatch is defined as the samples batch between 2 QC pools.\n",
    "\n",
    "def subbatch(x):\n",
    "    if x['order'] <= 14 :\n",
    "        return 0\n",
    "    if x['order'] <= 26 :\n",
    "        return 1\n",
    "    if x['order'] <= 38 :\n",
    "        return 2\n",
    "    if x['order'] <= 50 :\n",
    "        return 3\n",
    "    if x['order'] <= 62 :\n",
    "        return 4\n",
    "    if x['order'] <= 74 :\n",
    "        return 5\n",
    "    if x['order'] <= 86 :\n",
    "        return 6\n",
    "    if x['order'] <= 101 :\n",
    "        return 7\n",
    "    else:\n",
    "        return 8"
   ]
  },
  {
   "cell_type": "code",
   "execution_count": 4,
   "id": "f4350ec7-b8c3-4bab-aa36-3a25d65e2757",
   "metadata": {},
   "outputs": [],
   "source": [
    "df_data = pd.read_csv(os.path.join(DATA_PATH, 'internship_data_matrix.csv'))\n",
    "df_feature_meta = pd.read_csv(os.path.join(DATA_PATH, 'internship_feature_metadata.csv'))\n",
    "df_acq = pd.read_csv(os.path.join(DATA_PATH, 'internship_acquisition_list.csv'))\n",
    "\n",
    "# Augment dataset with metadata\n",
    "df_acq['sub_batch'] = df_acq.apply(lambda x : subbatch(x), axis=1)\n",
    "df_data = df_data.merge(df_acq[['sample', 'class', 'order', 'batch', 'sub_batch']], on='sample')\n",
    "df_data = df_data.melt(id_vars=['sample', 'class', 'order', 'batch', 'sub_batch'],value_name='intensity', var_name='feature')\n",
    "df_data['feature_number'] = df_data['feature'].apply(lambda s : int(s.split('-')[1]))\n",
    "\n",
    "# Filter classes, batch of interest and mass range of interest\n",
    "df_data = df_data[df_data['class'].isin(['QC', 'Dunn', 'French', 'LMU']) & df_data['batch'] == 1]\n",
    "df_glycans = df_feature_meta[df_feature_meta['mz'] > 500]\n",
    "df_data = df_data.merge(df_glycans['feature'], on='feature', how='inner')"
   ]
  },
  {
   "cell_type": "markdown",
   "id": "bd46bdde-4599-462f-ba50-efd8c36dcdcc",
   "metadata": {},
   "source": [
    "# Data processing"
   ]
  },
  {
   "cell_type": "markdown",
   "id": "899e9583-0e71-4061-80f3-32baeadea2e3",
   "metadata": {},
   "source": [
    "##  1- Rescale data to improve comparability\n",
    "\n",
    "There are several ways to proceed.\n",
    "* Global scaling normalization coefficient : ratio of peptide abundance to median peptide abundance measured across all samples\n",
    "* Median pool normalisation : ratio of peptide abundance to median peptide abundance in the three neighbouring QCs. This approach is preferred as it acounts for intra batch effects."
   ]
  },
  {
   "cell_type": "code",
   "execution_count": 5,
   "id": "c3a1e4c0-f509-4940-847a-a3d471c38d3c",
   "metadata": {},
   "outputs": [],
   "source": [
    "# Compute the QC pool metabolites median intensities for each data sub_batch\n",
    "pools_medians = df_data[df_data['class'] == 'QC'].groupby(['sub_batch', 'feature'])['intensity'].median().reset_index()\n",
    "pools_medians = pools_medians.sort_values(['feature', 'sub_batch'])\\\n",
    "                             .groupby('feature')\\\n",
    "                             .rolling(3, min_periods=3, center=True).median().dropna()\\\n",
    "                             .reset_index('feature').rename(columns={'intensity' : 'med_QC_intensity'})"
   ]
  },
  {
   "cell_type": "code",
   "execution_count": 6,
   "id": "db7154c6-224f-41b0-ba6b-1d200fe0ae57",
   "metadata": {},
   "outputs": [],
   "source": [
    "# Scale data intensities\n",
    "df_data_corr = df_data[df_data['class'].isin(['Dunn', 'LMU', 'French'])].merge(pools_medians, on=['feature', 'sub_batch'])\n",
    "df_data_corr['intensity_corr'] = df_data_corr['intensity'] / df_data_corr['med_QC_intensity']"
   ]
  },
  {
   "cell_type": "markdown",
   "id": "2227b70c-7071-4fb8-a233-eb18ea722905",
   "metadata": {},
   "source": [
    "## 2 - Select features which have a limited variability across samples of the same class"
   ]
  },
  {
   "cell_type": "code",
   "execution_count": 7,
   "id": "dc0210fc-d044-49b2-9f4a-247445ed995c",
   "metadata": {},
   "outputs": [
    {
     "name": "stdout",
     "output_type": "stream",
     "text": [
      "Before outliers removal, there are 11 samples.\n",
      "Each QC sample has at least 4 outliers :\n",
      "sample\n",
      "20241106-297-QC1       4\n",
      "20241106-297-QC10     24\n",
      "20241106-297-QC11     30\n",
      "20241106-297-QC2     146\n",
      "20241106-297-QC3      47\n",
      "20241106-297-QC4      32\n",
      "20241106-297-QC5       5\n",
      "20241106-297-QC6     142\n",
      "20241106-297-QC7      49\n",
      "20241106-297-QC8       4\n",
      "20241106-297-QC9       8\n",
      "dtype: int64.\n"
     ]
    }
   ],
   "source": [
    "# Remove features with outliers in QC to compute robust CV on features using Inter quartile range \n",
    "\n",
    "df_QC = df_data[df_data['class'] == 'QC']\n",
    "df_QC_summary = df_QC.groupby(['feature'])['intensity'].describe([.01, .99]).reset_index()\n",
    "print(f\"Before outliers removal, there are {df_QC['sample'].nunique()} samples.\")\n",
    "\n",
    "df_QC = df_QC.merge(df_QC_summary[['feature', '1%', '99%']], on='feature')\n",
    "print(f\"Each QC sample has at least 4 outliers :\\n{df_QC[(df_QC['intensity'] < df_QC['1%']) | (df_QC['intensity'] > df_QC['99%']) ].groupby('sample').size()}.\")\n",
    "\n",
    "# Since the features first selection step relies on CV per feature, we can just remove feature with outlier value for each sample\n",
    "df_QC = df_QC[(df_QC['intensity'] >= df_QC['1%']) & (df_QC['intensity'] <= df_QC['99%']) ]"
   ]
  },
  {
   "cell_type": "code",
   "execution_count": 8,
   "id": "81ef1cfb-6e04-4c31-958c-0d92f09d590a",
   "metadata": {
    "scrolled": true
   },
   "outputs": [
    {
     "data": {
      "text/html": [
       "<div>\n",
       "<style scoped>\n",
       "    .dataframe tbody tr th:only-of-type {\n",
       "        vertical-align: middle;\n",
       "    }\n",
       "\n",
       "    .dataframe tbody tr th {\n",
       "        vertical-align: top;\n",
       "    }\n",
       "\n",
       "    .dataframe thead th {\n",
       "        text-align: right;\n",
       "    }\n",
       "</style>\n",
       "<table border=\"1\" class=\"dataframe\">\n",
       "  <thead>\n",
       "    <tr style=\"text-align: right;\">\n",
       "      <th></th>\n",
       "      <th>CV%</th>\n",
       "    </tr>\n",
       "  </thead>\n",
       "  <tbody>\n",
       "    <tr>\n",
       "      <th>count</th>\n",
       "      <td>248.000000</td>\n",
       "    </tr>\n",
       "    <tr>\n",
       "      <th>mean</th>\n",
       "      <td>17.911869</td>\n",
       "    </tr>\n",
       "    <tr>\n",
       "      <th>std</th>\n",
       "      <td>14.595272</td>\n",
       "    </tr>\n",
       "    <tr>\n",
       "      <th>min</th>\n",
       "      <td>5.142026</td>\n",
       "    </tr>\n",
       "    <tr>\n",
       "      <th>25%</th>\n",
       "      <td>11.267969</td>\n",
       "    </tr>\n",
       "    <tr>\n",
       "      <th>50%</th>\n",
       "      <td>13.800647</td>\n",
       "    </tr>\n",
       "    <tr>\n",
       "      <th>75%</th>\n",
       "      <td>19.499003</td>\n",
       "    </tr>\n",
       "    <tr>\n",
       "      <th>max</th>\n",
       "      <td>159.997537</td>\n",
       "    </tr>\n",
       "  </tbody>\n",
       "</table>\n",
       "</div>"
      ],
      "text/plain": [
       "              CV%\n",
       "count  248.000000\n",
       "mean    17.911869\n",
       "std     14.595272\n",
       "min      5.142026\n",
       "25%     11.267969\n",
       "50%     13.800647\n",
       "75%     19.499003\n",
       "max    159.997537"
      ]
     },
     "execution_count": 8,
     "metadata": {},
     "output_type": "execute_result"
    }
   ],
   "source": [
    "# Compute CV\n",
    "\n",
    "cv_QC = df_QC.groupby('feature')['intensity'].agg(lambda x : x.std() / x.mean() * 100).reset_index().rename(columns={'intensity' : 'CV%'})\n",
    "cv_QC.describe()"
   ]
  },
  {
   "cell_type": "markdown",
   "id": "ccb10e8f-7000-477c-a3b5-fc9cdff1a6ee",
   "metadata": {},
   "source": [
    "According to [Instrumental Drift in Untargeted Metabolomics: Optimizing Data Quality with Intrastudy QC Samples](https://pmc.ncbi.nlm.nih.gov/articles/PMC10222478/#sec4-metabolites-13-00665), a accepted CV threshold for biomarker discovery is 20%."
   ]
  },
  {
   "cell_type": "code",
   "execution_count": 9,
   "id": "01041190-8f95-4a5d-a5cf-fc7e6be55564",
   "metadata": {},
   "outputs": [
    {
     "name": "stdout",
     "output_type": "stream",
     "text": [
      "At this stage, 225 features were selected\n"
     ]
    }
   ],
   "source": [
    "# Select features which exhibit limited variability in QC\n",
    "\n",
    "selected_feats = list(cv_QC[cv_QC['CV%'] <= 30]['feature'])\n",
    "print(f\"At this stage, {len(selected_feats)} features were selected\")"
   ]
  },
  {
   "cell_type": "markdown",
   "id": "9dbb634e-4452-42f4-84f2-5acf2f1016c0",
   "metadata": {},
   "source": [
    "## 3 - Remove samples with outliers "
   ]
  },
  {
   "cell_type": "code",
   "execution_count": 10,
   "id": "e25d003c-9e95-4138-9661-e0e2f1b496fc",
   "metadata": {},
   "outputs": [],
   "source": [
    "# First keep filtered features from step 2\n",
    "df_data_process = df_data_corr[df_data_corr['feature'].isin(selected_feats)]"
   ]
  },
  {
   "cell_type": "code",
   "execution_count": 11,
   "id": "d9ecf049-df3e-4381-8dce-9a14a5e663ca",
   "metadata": {},
   "outputs": [
    {
     "name": "stdout",
     "output_type": "stream",
     "text": [
      "Number of outliers per sample : \n",
      "                    sample  nb_outliers\n",
      "0     20241106-297-Dunn-10            4\n",
      "1     20241106-297-Dunn-12            2\n",
      "2     20241106-297-Dunn-13           24\n",
      "3     20241106-297-Dunn-14            1\n",
      "4     20241106-297-Dunn-17            7\n",
      "5     20241106-297-Dunn-18            2\n",
      "6     20241106-297-Dunn-19            1\n",
      "7      20241106-297-Dunn-2            4\n",
      "8     20241106-297-Dunn-20            1\n",
      "9     20241106-297-Dunn-21           12\n",
      "10    20241106-297-Dunn-24           51\n",
      "11     20241106-297-Dunn-5           23\n",
      "12     20241106-297-Dunn-6            2\n",
      "13     20241106-297-Dunn-8            1\n",
      "14  20241106-297-French-10            1\n",
      "15  20241106-297-French-13            1\n",
      "16  20241106-297-French-14            2\n",
      "17  20241106-297-French-15           22\n",
      "18  20241106-297-French-16            1\n",
      "19  20241106-297-French-17            7\n",
      "20  20241106-297-French-18           13\n",
      "21  20241106-297-French-19            2\n",
      "22   20241106-297-French-2            3\n",
      "23  20241106-297-French-20            3\n",
      "24  20241106-297-French-21           15\n",
      "25  20241106-297-French-24            5\n",
      "26   20241106-297-French-3            3\n",
      "27   20241106-297-French-8           22\n",
      "28   20241106-297-French-9            2\n",
      "29      20241106-297-LMU-1            1\n",
      "30     20241106-297-LMU-10            1\n",
      "31     20241106-297-LMU-11            7\n",
      "32     20241106-297-LMU-12            1\n",
      "33     20241106-297-LMU-13           81\n",
      "34     20241106-297-LMU-17            2\n",
      "35      20241106-297-LMU-2           12\n",
      "36     20241106-297-LMU-21           70\n",
      "37     20241106-297-LMU-23            5\n",
      "38     20241106-297-LMU-24            1\n",
      "39     20241106-297-LMU-26            1\n",
      "40      20241106-297-LMU-6           16\n",
      "41      20241106-297-LMU-7            2\n",
      "42      20241106-297-LMU-8            4\n",
      "43      20241106-297-LMU-9            4\n"
     ]
    }
   ],
   "source": [
    "# Detect outliers\n",
    "\n",
    "summ = df_data_process.groupby('feature')['intensity_corr'].describe([.01, .99]).reset_index()\n",
    "df_data_process = df_data_process.merge(summ[['feature', '1%', '99%']], on='feature')\n",
    "print(\"Number of outliers per sample : \")\n",
    "nb_outliers = df_data_process[(df_data_process['intensity_corr'] < df_data_process['1%']) | (df_data_process['intensity_corr'] > df_data_process['99%']) ]\\\n",
    "                .groupby('sample').size().reset_index()\n",
    "nb_outliers = nb_outliers.rename(columns={0:'nb_outliers'})\n",
    "print(nb_outliers)"
   ]
  },
  {
   "cell_type": "markdown",
   "id": "1dbb6585-057d-47d1-aa2b-27f58070c49d",
   "metadata": {},
   "source": [
    "Since there is at least 1 outlier per sample, we can discard samples based on a number of outliers. Namely, with 166 selected features, we can fix that threshold to 5 outliers max. It means we allow an error of 3%."
   ]
  },
  {
   "cell_type": "code",
   "execution_count": 12,
   "id": "4d0bb5b4-1097-4674-b35b-164c15ce20e1",
   "metadata": {},
   "outputs": [
    {
     "name": "stdout",
     "output_type": "stream",
     "text": [
      "Number of samples per class before filtering :\n",
      "class\n",
      "Dunn      24\n",
      "French    21\n",
      "LMU       21\n",
      "dtype: int64\n",
      "Number of samples per class after filtering :\n",
      "class\n",
      "Dunn      19\n",
      "French    16\n",
      "LMU       16\n",
      "dtype: int64\n"
     ]
    }
   ],
   "source": [
    "# Filter samples\n",
    "\n",
    "print(f\"Number of samples per class before filtering :\\n{df_data_process.drop_duplicates(['sample', 'class']).groupby('class').size()}\")\n",
    "samples_to_exclude = list(nb_outliers[nb_outliers['nb_outliers'] > 5]['sample'])\n",
    "df_data_process = df_data_process[~df_data_process['sample'].isin(samples_to_exclude)]\n",
    "print(f\"Number of samples per class after filtering :\\n{df_data_process.drop_duplicates(['sample', 'class']).groupby('class').size()}\")"
   ]
  },
  {
   "cell_type": "code",
   "execution_count": 13,
   "id": "5e144380-766c-492c-999d-7409c966825a",
   "metadata": {},
   "outputs": [
    {
     "data": {
      "image/png": "[encoded data removed]",
      "text/plain": [
       "<Figure size 800x500 with 1 Axes>"
      ]
     },
     "metadata": {},
     "output_type": "display_data"
    }
   ],
   "source": [
    "from sklearn.decomposition import PCA\n",
    "\n",
    "df = df_data_process[['feature', 'intensity', 'sample', 'class']].groupby(['class','sample','feature']).first().unstack()\n",
    "pca_2d = PCA(n_components=2)\n",
    "X = df.to_numpy()\n",
    "X_new = pca_2d.fit_transform(X)\n",
    "\n",
    "sns.set(rc = {'figure.figsize':(8, 5)})\n",
    "df_plot = pd.DataFrame(X_new, columns=['x1', 'x2'])\n",
    "df_plot['class'] = [c for (c, i) in df.index]\n",
    "\n",
    "fig = sns.scatterplot(df_plot, x='x1', y='x2', hue='class')"
   ]
  },
  {
   "cell_type": "markdown",
   "id": "4af7b02a-53dd-4e65-96d0-d5b0ee25391a",
   "metadata": {},
   "source": [
    "After data processing and feature engineering, we can start seeing 2 clusters with one cluster being data points from Dunn (Healthy)."
   ]
  },
  {
   "cell_type": "markdown",
   "id": "820adfd6-fd90-46bc-bfce-1142fd919709",
   "metadata": {},
   "source": [
    "## 4- Select features with a consistent support in detection on the same class\n",
    "\n",
    "From the guidelines, selected features should have been detected in at least 70% of cases for a given class. "
   ]
  },
  {
   "cell_type": "markdown",
   "id": "ba61aa44-9734-4173-8adc-8e421959d5e6",
   "metadata": {},
   "source": [
    "## 5 Final selection"
   ]
  },
  {
   "cell_type": "code",
   "execution_count": 14,
   "id": "3f42d81d-4a0c-46d7-88ab-661d37247262",
   "metadata": {},
   "outputs": [
    {
     "name": "stdout",
     "output_type": "stream",
     "text": [
      "Final curated list contains 225 features and 51 samples.\n"
     ]
    }
   ],
   "source": [
    "print(f\"Final curated list contains {df_data_process['feature'].nunique()} features and {df_data_process['sample'].nunique()} samples.\")"
   ]
  }
 ],
 "metadata": {
  "kernelspec": {
   "display_name": "Python (ml-internships)",
   "language": "python",
   "name": "ml-internships"
  },
  "language_info": {
   "codemirror_mode": {
    "name": "ipython",
    "version": 3
   },
   "file_extension": ".py",
   "mimetype": "text/x-python",
   "name": "python",
   "nbconvert_exporter": "python",
   "pygments_lexer": "ipython3",
   "version": "3.11.11"
  }
 },
 "nbformat": 4,
 "nbformat_minor": 5
}
