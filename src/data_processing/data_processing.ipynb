{
 "cells": [
  {
   "cell_type": "code",
   "execution_count": 75,
   "id": "2bb827ec-c656-4a32-997d-52e4ba08bd2e",
   "metadata": {},
   "outputs": [],
   "source": [
    "import plotly.express as plx\n",
    "import os\n",
    "import pandas as pd\n",
    "import numpy as np\n",
    "import seaborn as sns\n",
    "from matplotlib import pyplot as plt\n",
    "\n",
    "import scipy.stats as st"
   ]
  },
  {
   "cell_type": "code",
   "execution_count": 76,
   "id": "ac3d1720-8116-4857-bea9-04c0fb7a6fdb",
   "metadata": {},
   "outputs": [],
   "source": [
    "DATA_PATH = \"../../data/input\""
   ]
  },
  {
   "cell_type": "markdown",
   "id": "686cc602-335a-4f10-aaf0-6bf39cfa58d2",
   "metadata": {},
   "source": [
    "# Data loading"
   ]
  },
  {
   "cell_type": "code",
   "execution_count": 77,
   "id": "b151b613-7bfa-4559-9174-7a6ed384601e",
   "metadata": {},
   "outputs": [],
   "source": [
    "# Help to identify a sample's closest QC pool for median normalization correction later on\n",
    "\n",
    "def subbatch(x):\n",
    "    if x['order'] <= 14 :\n",
    "        return 0\n",
    "    if x['order'] <= 26 :\n",
    "        return 1\n",
    "    if x['order'] <= 38 :\n",
    "        return 2\n",
    "    if x['order'] <= 50 :\n",
    "        return 3\n",
    "    if x['order'] <= 62 :\n",
    "        return 4\n",
    "    if x['order'] <= 74 :\n",
    "        return 5\n",
    "    if x['order'] <= 86 :\n",
    "        return 6\n",
    "    if x['order'] <= 101 :\n",
    "        return 7\n",
    "    else:\n",
    "        return 8"
   ]
  },
  {
   "cell_type": "code",
   "execution_count": 78,
   "id": "39ae435b-436b-4def-9b6f-43e8e3abdc2b",
   "metadata": {},
   "outputs": [
    {
     "data": {
      "text/html": [
       "<div>\n",
       "<style scoped>\n",
       "    .dataframe tbody tr th:only-of-type {\n",
       "        vertical-align: middle;\n",
       "    }\n",
       "\n",
       "    .dataframe tbody tr th {\n",
       "        vertical-align: top;\n",
       "    }\n",
       "\n",
       "    .dataframe thead th {\n",
       "        text-align: right;\n",
       "    }\n",
       "</style>\n",
       "<table border=\"1\" class=\"dataframe\">\n",
       "  <thead>\n",
       "    <tr style=\"text-align: right;\">\n",
       "      <th></th>\n",
       "      <th>sample</th>\n",
       "      <th>class</th>\n",
       "      <th>id</th>\n",
       "      <th>order</th>\n",
       "      <th>batch</th>\n",
       "    </tr>\n",
       "  </thead>\n",
       "  <tbody>\n",
       "    <tr>\n",
       "      <th>91</th>\n",
       "      <td>20241106-297-QC1</td>\n",
       "      <td>QC</td>\n",
       "      <td>20241106-297-QC1</td>\n",
       "      <td>12</td>\n",
       "      <td>1</td>\n",
       "    </tr>\n",
       "    <tr>\n",
       "      <th>94</th>\n",
       "      <td>20241106-297-QC2</td>\n",
       "      <td>QC</td>\n",
       "      <td>20241106-297-QC2</td>\n",
       "      <td>13</td>\n",
       "      <td>1</td>\n",
       "    </tr>\n",
       "    <tr>\n",
       "      <th>95</th>\n",
       "      <td>20241106-297-QC3</td>\n",
       "      <td>QC</td>\n",
       "      <td>20241106-297-QC3</td>\n",
       "      <td>14</td>\n",
       "      <td>1</td>\n",
       "    </tr>\n",
       "    <tr>\n",
       "      <th>96</th>\n",
       "      <td>20241106-297-QC4</td>\n",
       "      <td>QC</td>\n",
       "      <td>20241106-297-QC4</td>\n",
       "      <td>26</td>\n",
       "      <td>1</td>\n",
       "    </tr>\n",
       "    <tr>\n",
       "      <th>97</th>\n",
       "      <td>20241106-297-QC5</td>\n",
       "      <td>QC</td>\n",
       "      <td>20241106-297-QC5</td>\n",
       "      <td>38</td>\n",
       "      <td>1</td>\n",
       "    </tr>\n",
       "    <tr>\n",
       "      <th>98</th>\n",
       "      <td>20241106-297-QC6</td>\n",
       "      <td>QC</td>\n",
       "      <td>20241106-297-QC6</td>\n",
       "      <td>50</td>\n",
       "      <td>1</td>\n",
       "    </tr>\n",
       "    <tr>\n",
       "      <th>99</th>\n",
       "      <td>20241106-297-QC7</td>\n",
       "      <td>QC</td>\n",
       "      <td>20241106-297-QC7</td>\n",
       "      <td>62</td>\n",
       "      <td>1</td>\n",
       "    </tr>\n",
       "    <tr>\n",
       "      <th>100</th>\n",
       "      <td>20241106-297-QC8</td>\n",
       "      <td>QC</td>\n",
       "      <td>20241106-297-QC8</td>\n",
       "      <td>74</td>\n",
       "      <td>1</td>\n",
       "    </tr>\n",
       "    <tr>\n",
       "      <th>101</th>\n",
       "      <td>20241106-297-QC9</td>\n",
       "      <td>QC</td>\n",
       "      <td>20241106-297-QC9</td>\n",
       "      <td>86</td>\n",
       "      <td>1</td>\n",
       "    </tr>\n",
       "    <tr>\n",
       "      <th>92</th>\n",
       "      <td>20241106-297-QC10</td>\n",
       "      <td>QC</td>\n",
       "      <td>20241106-297-QC10</td>\n",
       "      <td>100</td>\n",
       "      <td>1</td>\n",
       "    </tr>\n",
       "    <tr>\n",
       "      <th>93</th>\n",
       "      <td>20241106-297-QC11</td>\n",
       "      <td>QC</td>\n",
       "      <td>20241106-297-QC11</td>\n",
       "      <td>101</td>\n",
       "      <td>1</td>\n",
       "    </tr>\n",
       "  </tbody>\n",
       "</table>\n",
       "</div>"
      ],
      "text/plain": [
       "                sample class                 id  order  batch\n",
       "91    20241106-297-QC1    QC   20241106-297-QC1     12      1\n",
       "94    20241106-297-QC2    QC   20241106-297-QC2     13      1\n",
       "95    20241106-297-QC3    QC   20241106-297-QC3     14      1\n",
       "96    20241106-297-QC4    QC   20241106-297-QC4     26      1\n",
       "97    20241106-297-QC5    QC   20241106-297-QC5     38      1\n",
       "98    20241106-297-QC6    QC   20241106-297-QC6     50      1\n",
       "99    20241106-297-QC7    QC   20241106-297-QC7     62      1\n",
       "100   20241106-297-QC8    QC   20241106-297-QC8     74      1\n",
       "101   20241106-297-QC9    QC   20241106-297-QC9     86      1\n",
       "92   20241106-297-QC10    QC  20241106-297-QC10    100      1\n",
       "93   20241106-297-QC11    QC  20241106-297-QC11    101      1"
      ]
     },
     "execution_count": 78,
     "metadata": {},
     "output_type": "execute_result"
    }
   ],
   "source": [
    "df_acq = pd.read_csv(os.path.join(DATA_PATH, 'internship_acquisition_list.csv'))\n",
    "df_acq[df_acq['class'].isin(['QC']) & (df_acq['batch'] == 1)].sort_values('order')"
   ]
  },
  {
   "cell_type": "code",
   "execution_count": 92,
   "id": "f4350ec7-b8c3-4bab-aa36-3a25d65e2757",
   "metadata": {},
   "outputs": [],
   "source": [
    "df_data = pd.read_csv(os.path.join(DATA_PATH, 'internship_data_matrix.csv'))\n",
    "df_feature_meta = pd.read_csv(os.path.join(DATA_PATH, 'internship_feature_metadata.csv'))\n",
    "\n",
    "# Augment dataset with metadata\n",
    "df_acq['sub_batch'] = df_acq.apply(lambda x : subbatch(x), axis=1)\n",
    "df_data = df_data.merge(df_acq[['sample', 'class', 'order', 'batch', 'sub_batch']], on='sample')\n",
    "df_data = df_data.melt(id_vars=['sample', 'class', 'order', 'batch', 'sub_batch'],value_name='intensity', var_name='feature')\n",
    "df_data = df_data.merge(df_feature_meta[['feature', 'mz', 'rt']], on='feature')\n",
    "df_data['feature_number'] = df_data['feature'].apply(lambda s : int(s.split('-')[1]))\n",
    "\n",
    "# Filter classes, batch of interest and mass range of interest\n",
    "df_data = df_data[df_data['class'].isin(['QC', 'Dunn', 'French', 'LMU']) & df_data['batch'] == 1]\n",
    "df_glycans = df_feature_meta[df_feature_meta['mz'] > 500]\n",
    "df_data = df_data.merge(df_glycans['feature'], on='feature', how='inner')"
   ]
  },
  {
   "cell_type": "markdown",
   "id": "bd46bdde-4599-462f-ba50-efd8c36dcdcc",
   "metadata": {},
   "source": [
    "# Data processing"
   ]
  },
  {
   "cell_type": "markdown",
   "id": "2227b70c-7071-4fb8-a233-eb18ea722905",
   "metadata": {},
   "source": [
    "## 1 - Select features :\n",
    "* which have a limited variability across quality check samples (CV < 30%)\n",
    "* which are consistently detected across samples (70%)"
   ]
  },
  {
   "cell_type": "code",
   "execution_count": 93,
   "id": "e7fae4c3-b89f-4bf4-b0f6-bdb0f5769dfb",
   "metadata": {},
   "outputs": [
    {
     "name": "stdout",
     "output_type": "stream",
     "text": [
      "Each QC sample has at least 1 outliers :\n",
      "sample\n",
      "20241106-297-QC1      6\n",
      "20241106-297-QC10     9\n",
      "20241106-297-QC11     5\n",
      "20241106-297-QC2     37\n",
      "20241106-297-QC3      1\n",
      "20241106-297-QC4      2\n",
      "20241106-297-QC6     39\n",
      "20241106-297-QC7     32\n",
      "20241106-297-QC8      1\n",
      "20241106-297-QC9      4\n",
      "dtype: int64.\n"
     ]
    }
   ],
   "source": [
    "# Remove features with outliers in QC to compute robust CV on features\n",
    "\n",
    "df_QC = df_data[df_data['class'] == 'QC']\n",
    "df_QC_summary = df_QC.groupby(['feature'])['intensity'].describe().reset_index()\n",
    "df_QC_summary['lower_bound'] = 2.5*df_QC_summary['25%'] - 1.5*df_QC_summary['75%']\n",
    "df_QC_summary['upper_bound'] = 2.5*df_QC_summary['75%'] - 1.5*df_QC_summary['25%']\n",
    "df_QC = df_QC.merge(df_QC_summary[['feature', 'lower_bound', 'upper_bound']], on='feature')\n",
    "print(f\"Each QC sample has at least 1 outliers :\\n{df_QC[(df_QC['intensity'] < df_QC['lower_bound']) | (df_QC['intensity'] > df_QC['upper_bound']) ].groupby('sample').size()}.\")\n",
    "\n",
    "# Since the features first selection step relies on CV per feature, we can just remove feature with outlier value for each sample\n",
    "df_QC = df_QC[(df_QC['intensity'] >= df_QC['lower_bound']) & (df_QC['intensity'] <= df_QC['upper_bound']) ]"
   ]
  },
  {
   "cell_type": "code",
   "execution_count": 94,
   "id": "81ef1cfb-6e04-4c31-958c-0d92f09d590a",
   "metadata": {
    "scrolled": true
   },
   "outputs": [
    {
     "data": {
      "text/html": [
       "<div>\n",
       "<style scoped>\n",
       "    .dataframe tbody tr th:only-of-type {\n",
       "        vertical-align: middle;\n",
       "    }\n",
       "\n",
       "    .dataframe tbody tr th {\n",
       "        vertical-align: top;\n",
       "    }\n",
       "\n",
       "    .dataframe thead th {\n",
       "        text-align: right;\n",
       "    }\n",
       "</style>\n",
       "<table border=\"1\" class=\"dataframe\">\n",
       "  <thead>\n",
       "    <tr style=\"text-align: right;\">\n",
       "      <th></th>\n",
       "      <th>CV%</th>\n",
       "    </tr>\n",
       "  </thead>\n",
       "  <tbody>\n",
       "    <tr>\n",
       "      <th>count</th>\n",
       "      <td>248.000000</td>\n",
       "    </tr>\n",
       "    <tr>\n",
       "      <th>mean</th>\n",
       "      <td>20.206194</td>\n",
       "    </tr>\n",
       "    <tr>\n",
       "      <th>std</th>\n",
       "      <td>12.235200</td>\n",
       "    </tr>\n",
       "    <tr>\n",
       "      <th>min</th>\n",
       "      <td>2.416975</td>\n",
       "    </tr>\n",
       "    <tr>\n",
       "      <th>25%</th>\n",
       "      <td>14.056512</td>\n",
       "    </tr>\n",
       "    <tr>\n",
       "      <th>50%</th>\n",
       "      <td>17.015310</td>\n",
       "    </tr>\n",
       "    <tr>\n",
       "      <th>75%</th>\n",
       "      <td>22.907125</td>\n",
       "    </tr>\n",
       "    <tr>\n",
       "      <th>max</th>\n",
       "      <td>99.131709</td>\n",
       "    </tr>\n",
       "  </tbody>\n",
       "</table>\n",
       "</div>"
      ],
      "text/plain": [
       "              CV%\n",
       "count  248.000000\n",
       "mean    20.206194\n",
       "std     12.235200\n",
       "min      2.416975\n",
       "25%     14.056512\n",
       "50%     17.015310\n",
       "75%     22.907125\n",
       "max     99.131709"
      ]
     },
     "execution_count": 94,
     "metadata": {},
     "output_type": "execute_result"
    }
   ],
   "source": [
    "# Compute CV\n",
    "\n",
    "cv_QC = df_QC.groupby('feature')['intensity'].agg(lambda x : x.std() / x.mean() * 100).reset_index().rename(columns={'intensity' : 'CV%'})\n",
    "cv_QC.describe()"
   ]
  },
  {
   "cell_type": "markdown",
   "id": "ccb10e8f-7000-477c-a3b5-fc9cdff1a6ee",
   "metadata": {},
   "source": [
    "According to [Instrumental Drift in Untargeted Metabolomics: Optimizing Data Quality with Intrastudy QC Samples](https://pmc.ncbi.nlm.nih.gov/articles/PMC10222478/#sec4-metabolites-13-00665), a accepted CV threshold for biomarker discovery is 20%. This work allows 30%."
   ]
  },
  {
   "cell_type": "code",
   "execution_count": 95,
   "id": "01041190-8f95-4a5d-a5cf-fc7e6be55564",
   "metadata": {},
   "outputs": [
    {
     "name": "stdout",
     "output_type": "stream",
     "text": [
      "At this stage, 219 features were selected\n"
     ]
    }
   ],
   "source": [
    "# Select features which exhibit limited variability in QC\n",
    "\n",
    "selected_feats = list(cv_QC[cv_QC['CV%'] <= 30]['feature'])\n",
    "print(f\"At this stage, {len(selected_feats)} features were selected\")"
   ]
  },
  {
   "cell_type": "code",
   "execution_count": 96,
   "id": "7979bfb7-bf9f-451f-b3bb-5b0045c90add",
   "metadata": {},
   "outputs": [],
   "source": [
    "df_data_process = df_data[df_data['feature'].isin(selected_feats)]"
   ]
  },
  {
   "cell_type": "markdown",
   "id": "e4a7f356-3d27-49d8-8ee6-1eb81bdb2fb1",
   "metadata": {},
   "source": [
    "We select features that are consistently detected across samples.\n",
    "We consider that a feature is present in a sample if its intensity is above 400 (from previous analysis in EDA). Then we select features which are present in all samples at least 70% of the time."
   ]
  },
  {
   "cell_type": "code",
   "execution_count": 97,
   "id": "f86f59ed-957b-4315-a20a-9cc3eeb1f83d",
   "metadata": {},
   "outputs": [
    {
     "name": "stdout",
     "output_type": "stream",
     "text": [
      "At this stage, 39 features were selected\n"
     ]
    },
    {
     "name": "stderr",
     "output_type": "stream",
     "text": [
      "C:\\Users\\Philippine\\AppData\\Local\\Temp\\ipykernel_19180\\2303838604.py:1: SettingWithCopyWarning: \n",
      "A value is trying to be set on a copy of a slice from a DataFrame.\n",
      "Try using .loc[row_indexer,col_indexer] = value instead\n",
      "\n",
      "See the caveats in the documentation: https://pandas.pydata.org/pandas-docs/stable/user_guide/indexing.html#returning-a-view-versus-a-copy\n",
      "  df_data_process['detection'] = df_data_process['intensity'].apply(lambda x: x >= 400)\n"
     ]
    }
   ],
   "source": [
    "df_data_process['detection'] = df_data_process['intensity'].apply(lambda x: x >= 400)\n",
    "df_detect = df_data_process.groupby('feature').agg({'detection':lambda x : x.sum() / x.size})\n",
    "detected_features = df_detect.loc[df_detect['detection'] < 0.7].index\n",
    "print(f\"At this stage, {len(detected_features)} features were selected\")\n",
    "df_data_process = df_data[df_data['feature'].isin(detected_features)]"
   ]
  },
  {
   "cell_type": "markdown",
   "id": "9dbb634e-4452-42f4-84f2-5acf2f1016c0",
   "metadata": {},
   "source": [
    "## 2 - Remove samples with outliers "
   ]
  },
  {
   "cell_type": "code",
   "execution_count": 98,
   "id": "d9ecf049-df3e-4381-8dce-9a14a5e663ca",
   "metadata": {},
   "outputs": [],
   "source": [
    "# Detect outliers\n",
    "\n",
    "summ = df_data_process.groupby('feature')['intensity'].describe().reset_index()\n",
    "summ['lower_bound'] = 2.5*summ['25%'] - 1.5*summ['75%']\n",
    "summ['upper_bound'] = 2.5*summ['75%'] - 1.5*summ['25%']\n",
    "df_data_process = df_data_process.merge(summ[['feature', 'lower_bound', 'upper_bound']], on='feature')\n",
    "nb_outliers = df_data_process[(df_data_process['intensity'] < df_data_process['lower_bound']) | (df_data_process['intensity'] > df_data_process['upper_bound']) ]\\\n",
    "                .groupby(['class','sample']).size().reset_index()\n",
    "nb_outliers = nb_outliers.rename(columns={0:'nb_outliers'})"
   ]
  },
  {
   "cell_type": "markdown",
   "id": "1dbb6585-057d-47d1-aa2b-27f58070c49d",
   "metadata": {},
   "source": [
    "Since there is at least 1 outlier per sample, we can discard samples based on a number of outliers."
   ]
  },
  {
   "cell_type": "code",
   "execution_count": 99,
   "id": "4d0bb5b4-1097-4674-b35b-164c15ce20e1",
   "metadata": {
    "scrolled": true
   },
   "outputs": [
    {
     "name": "stdout",
     "output_type": "stream",
     "text": [
      "Number of samples per class before filtering :\n",
      "class\n",
      "Dunn      27\n",
      "French    26\n",
      "LMU       26\n",
      "QC        11\n",
      "dtype: int64\n",
      "Number of samples per class after filtering :\n",
      "class\n",
      "Dunn      26\n",
      "French    25\n",
      "LMU       24\n",
      "QC        11\n",
      "dtype: int64\n"
     ]
    }
   ],
   "source": [
    "# Filter samples\n",
    "\n",
    "print(f\"Number of samples per class before filtering :\\n{df_data_process.drop_duplicates(['sample', 'class']).groupby('class').size()}\")\n",
    "samples_to_exclude = list(nb_outliers[(nb_outliers['nb_outliers'] > 4) & ~(nb_outliers['class'] == 'QC')]['sample'])\n",
    "df_data_process = df_data_process[~df_data_process['sample'].isin(samples_to_exclude)].drop(['lower_bound', 'upper_bound'], axis=1)\n",
    "print(f\"Number of samples per class after filtering :\\n{df_data_process.drop_duplicates(['sample', 'class']).groupby('class').size()}\")"
   ]
  },
  {
   "cell_type": "markdown",
   "id": "899e9583-0e71-4061-80f3-32baeadea2e3",
   "metadata": {},
   "source": [
    "##  3- Rescale data to improve comparability\n",
    "\n",
    "There are several ways to proceed.\n",
    "* Global scaling normalization coefficient : ratio of peptide abundance to median peptide abundance measured across all samples\n",
    "* Median pool normalisation : ratio of sample peptide abundance to peptide abundance in the 3 neighbouring QCs. This approach is preferred as it acounts for intra batch effects."
   ]
  },
  {
   "cell_type": "code",
   "execution_count": 100,
   "id": "c3a1e4c0-f509-4940-847a-a3d471c38d3c",
   "metadata": {},
   "outputs": [],
   "source": [
    "# Compute the QC pool metabolites median intensities for each data sub_batch\n",
    "pools_medians = df_data[df_data['class'] == 'QC'].groupby(['sub_batch', 'feature'])['intensity'].median().reset_index()\n",
    "pools_medians = pools_medians.sort_values(['feature', 'sub_batch'])\\\n",
    "                             .groupby('feature')\\\n",
    "                             .rolling(3, min_periods=2, center=True).median()\\\n",
    "                             .replace({'sub_batch':6.5}, 7).replace({'sub_batch':0.5}, 0)\\\n",
    "                             .reset_index('feature').rename(columns={'intensity' : 'med_QC_intensity'})"
   ]
  },
  {
   "cell_type": "code",
   "execution_count": 101,
   "id": "db7154c6-224f-41b0-ba6b-1d200fe0ae57",
   "metadata": {},
   "outputs": [],
   "source": [
    "# Scale data intensities\n",
    "df_data_corr = df_data.merge(pools_medians, on=['feature', 'sub_batch'], how='outer')\n",
    "df_data_corr['intensity_raw'] = df_data_corr['intensity']\n",
    "df_data_corr['intensity'] = df_data_corr['intensity'] / df_data_corr['med_QC_intensity']"
   ]
  },
  {
   "cell_type": "markdown",
   "id": "fee06f30-aad1-4a43-86f5-1310c402df52",
   "metadata": {},
   "source": [
    "## 4. Plot result"
   ]
  },
  {
   "cell_type": "code",
   "execution_count": 102,
   "id": "5e144380-766c-492c-999d-7409c966825a",
   "metadata": {},
   "outputs": [
    {
     "data": {
      "image/png": "[encoded data removed]",
      "text/plain": [
       "<Figure size 800x500 with 1 Axes>"
      ]
     },
     "metadata": {},
     "output_type": "display_data"
    }
   ],
   "source": [
    "from sklearn.decomposition import PCA\n",
    "\n",
    "df = df_data_process[['feature', 'intensity', 'sample', 'class']].groupby(['class','sample','feature']).first().unstack()\n",
    "pca_2d = PCA(n_components=2)\n",
    "X = df.to_numpy()\n",
    "X_new = pca_2d.fit_transform(X)\n",
    "\n",
    "sns.set(rc = {'figure.figsize':(8, 5)})\n",
    "df_plot = pd.DataFrame(X_new, columns=['x1', 'x2'])\n",
    "df_plot['class'] = [c for (c, i) in df.index]\n",
    "\n",
    "fig = sns.scatterplot(df_plot, x='x1', y='x2', hue='class')\n",
    "#fig.set_xlim((-5,5))\n",
    "#fig.set_ylim((-5,5))"
   ]
  },
  {
   "cell_type": "markdown",
   "id": "4af7b02a-53dd-4e65-96d0-d5b0ee25391a",
   "metadata": {
    "jp-MarkdownHeadingCollapsed": true
   },
   "source": [
    "After data processing and feature engineering, we can observe that most data points cluster."
   ]
  },
  {
   "cell_type": "markdown",
   "id": "ba61aa44-9734-4173-8adc-8e421959d5e6",
   "metadata": {},
   "source": [
    "## 5 Final selection"
   ]
  },
  {
   "cell_type": "code",
   "execution_count": 103,
   "id": "3f42d81d-4a0c-46d7-88ab-661d37247262",
   "metadata": {},
   "outputs": [
    {
     "name": "stdout",
     "output_type": "stream",
     "text": [
      "Final curated list contains 39 features and 86 samples.\n"
     ]
    }
   ],
   "source": [
    "print(f\"Final curated list contains {df_data_process['feature'].nunique()} features and {df_data_process['sample'].nunique()} samples.\")"
   ]
  },
  {
   "cell_type": "code",
   "execution_count": 107,
   "id": "13322912-94ce-4ba2-b173-accd2551195e",
   "metadata": {},
   "outputs": [
    {
     "name": "stdout",
     "output_type": "stream",
     "text": [
      "Selected features are : \n",
      "['FT-051' 'FT-060' 'FT-065' 'FT-068' 'FT-071' 'FT-072' 'FT-079' 'FT-086'\n",
      " 'FT-091' 'FT-115' 'FT-116' 'FT-126' 'FT-131' 'FT-146' 'FT-148' 'FT-151'\n",
      " 'FT-153' 'FT-172' 'FT-174' 'FT-180' 'FT-183' 'FT-186' 'FT-188' 'FT-192'\n",
      " 'FT-200' 'FT-202' 'FT-205' 'FT-206' 'FT-209' 'FT-217' 'FT-225' 'FT-235'\n",
      " 'FT-238' 'FT-239' 'FT-241' 'FT-242' 'FT-243' 'FT-245' 'FT-249']\n",
      "\n",
      "Selected samples are : \n",
      "['20241106-297-Dunn-1' '20241106-297-Dunn-10' '20241106-297-Dunn-11'\n",
      " '20241106-297-Dunn-12' '20241106-297-Dunn-13' '20241106-297-Dunn-14'\n",
      " '20241106-297-Dunn-15' '20241106-297-Dunn-16' '20241106-297-Dunn-17'\n",
      " '20241106-297-Dunn-18' '20241106-297-Dunn-19' '20241106-297-Dunn-2'\n",
      " '20241106-297-Dunn-20' '20241106-297-Dunn-22' '20241106-297-Dunn-23'\n",
      " '20241106-297-Dunn-24' '20241106-297-Dunn-25' '20241106-297-Dunn-26'\n",
      " '20241106-297-Dunn-27' '20241106-297-Dunn-3' '20241106-297-Dunn-4'\n",
      " '20241106-297-Dunn-5' '20241106-297-Dunn-6' '20241106-297-Dunn-7'\n",
      " '20241106-297-Dunn-8' '20241106-297-Dunn-9' '20241106-297-French-1'\n",
      " '20241106-297-French-10' '20241106-297-French-11'\n",
      " '20241106-297-French-12' '20241106-297-French-13'\n",
      " '20241106-297-French-14' '20241106-297-French-15'\n",
      " '20241106-297-French-16' '20241106-297-French-17'\n",
      " '20241106-297-French-18' '20241106-297-French-19' '20241106-297-French-2'\n",
      " '20241106-297-French-20' '20241106-297-French-21'\n",
      " '20241106-297-French-22' '20241106-297-French-23'\n",
      " '20241106-297-French-24' '20241106-297-French-25'\n",
      " '20241106-297-French-26' '20241106-297-French-3' '20241106-297-French-5'\n",
      " '20241106-297-French-6' '20241106-297-French-7' '20241106-297-French-8'\n",
      " '20241106-297-French-9' '20241106-297-LMU-1' '20241106-297-LMU-10'\n",
      " '20241106-297-LMU-11' '20241106-297-LMU-12' '20241106-297-LMU-14'\n",
      " '20241106-297-LMU-15' '20241106-297-LMU-17' '20241106-297-LMU-18'\n",
      " '20241106-297-LMU-19' '20241106-297-LMU-2' '20241106-297-LMU-20'\n",
      " '20241106-297-LMU-21' '20241106-297-LMU-22' '20241106-297-LMU-23'\n",
      " '20241106-297-LMU-24' '20241106-297-LMU-25' '20241106-297-LMU-26'\n",
      " '20241106-297-LMU-3' '20241106-297-LMU-4' '20241106-297-LMU-5'\n",
      " '20241106-297-LMU-6' '20241106-297-LMU-7' '20241106-297-LMU-8'\n",
      " '20241106-297-LMU-9' '20241106-297-QC1' '20241106-297-QC10'\n",
      " '20241106-297-QC11' '20241106-297-QC2' '20241106-297-QC3'\n",
      " '20241106-297-QC4' '20241106-297-QC5' '20241106-297-QC6'\n",
      " '20241106-297-QC7' '20241106-297-QC8' '20241106-297-QC9']\n"
     ]
    }
   ],
   "source": [
    "print(f\"Selected features are : \\n{df_data_process['feature'].unique()}\\n\")\n",
    "print(f\"Selected samples are : \\n{df_data_process['sample'].unique()}\")"
   ]
  },
  {
   "cell_type": "code",
   "execution_count": null,
   "id": "acfd32b5-774c-4d81-8443-f17eebdd2469",
   "metadata": {},
   "outputs": [],
   "source": []
  }
 ],
 "metadata": {
  "kernelspec": {
   "display_name": "Python (ml-internships)",
   "language": "python",
   "name": "ml-internships"
  },
  "language_info": {
   "codemirror_mode": {
    "name": "ipython",
    "version": 3
   },
   "file_extension": ".py",
   "mimetype": "text/x-python",
   "name": "python",
   "nbconvert_exporter": "python",
   "pygments_lexer": "ipython3",
   "version": "3.11.11"
  }
 },
 "nbformat": 4,
 "nbformat_minor": 5
}
